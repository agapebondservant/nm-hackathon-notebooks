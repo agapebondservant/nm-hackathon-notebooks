{
 "cells": [
  {
   "cell_type": "code",
   "execution_count": 1,
   "id": "36180f54-b7a0-44ff-a9a3-cb3b3e311c5c",
   "metadata": {},
   "outputs": [
    {
     "name": "stdout",
     "output_type": "stream",
     "text": [
      "Collecting huggingface_hub\n",
      "  Obtaining dependency information for huggingface_hub from https://files.pythonhosted.org/packages/93/27/1fb384a841e9661faad1c31cbfa62864f59632e876df5d795234da51c395/huggingface_hub-0.30.2-py3-none-any.whl.metadata\n",
      "  Downloading huggingface_hub-0.30.2-py3-none-any.whl.metadata (13 kB)\n",
      "Requirement already satisfied: boto3 in /opt/app-root/lib64/python3.11/site-packages (1.35.55)\n",
      "Requirement already satisfied: filelock in /opt/app-root/lib64/python3.11/site-packages (from huggingface_hub) (3.16.1)\n",
      "Requirement already satisfied: fsspec>=2023.5.0 in /opt/app-root/lib64/python3.11/site-packages (from huggingface_hub) (2024.10.0)\n",
      "Requirement already satisfied: packaging>=20.9 in /opt/app-root/lib64/python3.11/site-packages (from huggingface_hub) (24.1)\n",
      "Requirement already satisfied: pyyaml>=5.1 in /opt/app-root/lib64/python3.11/site-packages (from huggingface_hub) (6.0.2)\n",
      "Requirement already satisfied: requests in /opt/app-root/lib64/python3.11/site-packages (from huggingface_hub) (2.32.3)\n",
      "Requirement already satisfied: tqdm>=4.42.1 in /opt/app-root/lib64/python3.11/site-packages (from huggingface_hub) (4.67.0)\n",
      "Requirement already satisfied: typing-extensions>=3.7.4.3 in /opt/app-root/lib64/python3.11/site-packages (from huggingface_hub) (4.12.2)\n",
      "Requirement already satisfied: botocore<1.36.0,>=1.35.55 in /opt/app-root/lib64/python3.11/site-packages (from boto3) (1.35.55)\n",
      "Requirement already satisfied: jmespath<2.0.0,>=0.7.1 in /opt/app-root/lib64/python3.11/site-packages (from boto3) (1.0.1)\n",
      "Requirement already satisfied: s3transfer<0.11.0,>=0.10.0 in /opt/app-root/lib64/python3.11/site-packages (from boto3) (0.10.3)\n",
      "Requirement already satisfied: python-dateutil<3.0.0,>=2.1 in /opt/app-root/lib64/python3.11/site-packages (from botocore<1.36.0,>=1.35.55->boto3) (2.9.0.post0)\n",
      "Requirement already satisfied: urllib3!=2.2.0,<3,>=1.25.4 in /opt/app-root/lib64/python3.11/site-packages (from botocore<1.36.0,>=1.35.55->boto3) (1.26.20)\n",
      "Requirement already satisfied: charset-normalizer<4,>=2 in /opt/app-root/lib64/python3.11/site-packages (from requests->huggingface_hub) (3.4.0)\n",
      "Requirement already satisfied: idna<4,>=2.5 in /opt/app-root/lib64/python3.11/site-packages (from requests->huggingface_hub) (3.10)\n",
      "Requirement already satisfied: certifi>=2017.4.17 in /opt/app-root/lib64/python3.11/site-packages (from requests->huggingface_hub) (2024.8.30)\n",
      "Requirement already satisfied: six>=1.5 in /opt/app-root/lib64/python3.11/site-packages (from python-dateutil<3.0.0,>=2.1->botocore<1.36.0,>=1.35.55->boto3) (1.16.0)\n",
      "Downloading huggingface_hub-0.30.2-py3-none-any.whl (481 kB)\n",
      "\u001b[2K   \u001b[90m━━━━━━━━━━━━━━━━━━━━━━━━━━━━━━━━━━━━━━━━\u001b[0m \u001b[32m481.4/481.4 kB\u001b[0m \u001b[31m11.0 MB/s\u001b[0m eta \u001b[36m0:00:00\u001b[0m \u001b[36m0:00:01\u001b[0m\n",
      "\u001b[?25hInstalling collected packages: huggingface_hub\n",
      "Successfully installed huggingface_hub-0.30.2\n",
      "\n",
      "\u001b[1m[\u001b[0m\u001b[34;49mnotice\u001b[0m\u001b[1;39;49m]\u001b[0m\u001b[39;49m A new release of pip is available: \u001b[0m\u001b[31;49m23.2.1\u001b[0m\u001b[39;49m -> \u001b[0m\u001b[32;49m25.0.1\u001b[0m\n",
      "\u001b[1m[\u001b[0m\u001b[34;49mnotice\u001b[0m\u001b[1;39;49m]\u001b[0m\u001b[39;49m To update, run: \u001b[0m\u001b[32;49mpip install --upgrade pip\u001b[0m\n"
     ]
    }
   ],
   "source": [
    "!pip install huggingface_hub boto3"
   ]
  },
  {
   "cell_type": "code",
   "execution_count": 3,
   "id": "17613d5e-510d-4f77-b25e-6cbd4087ec31",
   "metadata": {},
   "outputs": [],
   "source": [
    "import os\n",
    "import boto3\n",
    "from huggingface_hub import hf_hub_download\n",
    "from huggingface_hub import snapshot_download"
   ]
  },
  {
   "cell_type": "code",
   "execution_count": 6,
   "id": "a5378d2d-05c4-427f-bf16-457993f5793d",
   "metadata": {},
   "outputs": [
    {
     "name": "stdout",
     "output_type": "stream",
     "text": [
      "/opt/app-root/src\n"
     ]
    }
   ],
   "source": [
    "!pwd\n",
    "!mkdir -p /opt/app-root/src/llm"
   ]
  },
  {
   "cell_type": "code",
   "execution_count": 27,
   "id": "2a9a47d4-ea7b-4a94-8343-a4cf29a1b02d",
   "metadata": {},
   "outputs": [
    {
     "name": "stdout",
     "output_type": "stream",
     "text": [
      "Uploading: /opt/app-root/src/llm/llama/models--meta-llama--Llama-3.1-8B-Instruct\n",
      "Uploading: /opt/app-root/src/llm/llama/models--meta-llama--Llama-3.1-8B-Instruct/refs\n",
      "Uploading: /opt/app-root/src/llm/llama/models--meta-llama--Llama-3.1-8B-Instruct/refs/main\n",
      "Uploading: /opt/app-root/src/llm/llama/models--meta-llama--Llama-3.1-8B-Instruct/snapshots\n",
      "Uploading: /opt/app-root/src/llm/llama/models--meta-llama--Llama-3.1-8B-Instruct/snapshots/0e9e39f249a16976918f6564b8830bc894c89659\n",
      "Uploading: /opt/app-root/src/llm/llama/models--meta-llama--Llama-3.1-8B-Instruct/snapshots/0e9e39f249a16976918f6564b8830bc894c89659/.gitattributes\n",
      "Uploading: /opt/app-root/src/llm/llama/models--meta-llama--Llama-3.1-8B-Instruct/snapshots/0e9e39f249a16976918f6564b8830bc894c89659/model-00002-of-00004.safetensors\n",
      "Uploading: /opt/app-root/src/llm/llama/models--meta-llama--Llama-3.1-8B-Instruct/snapshots/0e9e39f249a16976918f6564b8830bc894c89659/USE_POLICY.md\n",
      "Uploading: /opt/app-root/src/llm/llama/models--meta-llama--Llama-3.1-8B-Instruct/snapshots/0e9e39f249a16976918f6564b8830bc894c89659/README.md\n",
      "Uploading: /opt/app-root/src/llm/llama/models--meta-llama--Llama-3.1-8B-Instruct/snapshots/0e9e39f249a16976918f6564b8830bc894c89659/model-00003-of-00004.safetensors\n",
      "Uploading: /opt/app-root/src/llm/llama/models--meta-llama--Llama-3.1-8B-Instruct/snapshots/0e9e39f249a16976918f6564b8830bc894c89659/original\n",
      "Uploading: /opt/app-root/src/llm/llama/models--meta-llama--Llama-3.1-8B-Instruct/snapshots/0e9e39f249a16976918f6564b8830bc894c89659/original/params.json\n",
      "Uploading: /opt/app-root/src/llm/llama/models--meta-llama--Llama-3.1-8B-Instruct/snapshots/0e9e39f249a16976918f6564b8830bc894c89659/original/tokenizer.model\n",
      "Uploading: /opt/app-root/src/llm/llama/models--meta-llama--Llama-3.1-8B-Instruct/snapshots/0e9e39f249a16976918f6564b8830bc894c89659/original/consolidated.00.pth\n",
      "Uploading: /opt/app-root/src/llm/llama/models--meta-llama--Llama-3.1-8B-Instruct/snapshots/0e9e39f249a16976918f6564b8830bc894c89659/model.safetensors.index.json\n",
      "Uploading: /opt/app-root/src/llm/llama/models--meta-llama--Llama-3.1-8B-Instruct/snapshots/0e9e39f249a16976918f6564b8830bc894c89659/model-00001-of-00004.safetensors\n",
      "Uploading: /opt/app-root/src/llm/llama/models--meta-llama--Llama-3.1-8B-Instruct/snapshots/0e9e39f249a16976918f6564b8830bc894c89659/model-00004-of-00004.safetensors\n",
      "Uploading: /opt/app-root/src/llm/llama/models--meta-llama--Llama-3.1-8B-Instruct/snapshots/0e9e39f249a16976918f6564b8830bc894c89659/tokenizer.json\n",
      "Uploading: /opt/app-root/src/llm/llama/models--meta-llama--Llama-3.1-8B-Instruct/snapshots/0e9e39f249a16976918f6564b8830bc894c89659/config.json\n",
      "Uploading: /opt/app-root/src/llm/llama/models--meta-llama--Llama-3.1-8B-Instruct/snapshots/0e9e39f249a16976918f6564b8830bc894c89659/special_tokens_map.json\n",
      "Uploading: /opt/app-root/src/llm/llama/models--meta-llama--Llama-3.1-8B-Instruct/snapshots/0e9e39f249a16976918f6564b8830bc894c89659/generation_config.json\n",
      "Uploading: /opt/app-root/src/llm/llama/models--meta-llama--Llama-3.1-8B-Instruct/snapshots/0e9e39f249a16976918f6564b8830bc894c89659/tokenizer_config.json\n",
      "Uploading: /opt/app-root/src/llm/llama/models--meta-llama--Llama-3.1-8B-Instruct/snapshots/0e9e39f249a16976918f6564b8830bc894c89659/LICENSE\n",
      "Uploading: /opt/app-root/src/llm/llama/models--meta-llama--Llama-3.1-8B-Instruct/blobs\n",
      "Uploading: /opt/app-root/src/llm/llama/models--meta-llama--Llama-3.1-8B-Instruct/blobs/5cc5f00a5b203e90a27a3bd60d1ec393b07971e8\n",
      "Uploading: /opt/app-root/src/llm/llama/models--meta-llama--Llama-3.1-8B-Instruct/blobs/0fd8120f1c6acddc268ebc2583058efaf699a771\n",
      "Uploading: /opt/app-root/src/llm/llama/models--meta-llama--Llama-3.1-8B-Instruct/blobs/09d433f650646834a83c580877bd60c6d1f88f7755305c12576b5c7058f9af15\n",
      "Uploading: /opt/app-root/src/llm/llama/models--meta-llama--Llama-3.1-8B-Instruct/blobs/a7c3ca16cee30425ed6ad841a809590f2bcbf290\n",
      "Uploading: /opt/app-root/src/llm/llama/models--meta-llama--Llama-3.1-8B-Instruct/blobs/92ecfe1a2414458b4821ac8c13cf8cb70aed66b5eea8dc5ad9eeb4ff309d6d7b\n",
      "Uploading: /opt/app-root/src/llm/llama/models--meta-llama--Llama-3.1-8B-Instruct/blobs/db88166e2bc4c799fd5d1ae643b75e84d03ee70e\n",
      "Uploading: /opt/app-root/src/llm/llama/models--meta-llama--Llama-3.1-8B-Instruct/blobs/ab33d910f405204e5d388bc3521503584800461dc96808e287821dd451c1edac\n",
      "Uploading: /opt/app-root/src/llm/llama/models--meta-llama--Llama-3.1-8B-Instruct/blobs/bbd5630a05b65c1a8b25141bd11ec44844107d58\n",
      "Uploading: /opt/app-root/src/llm/llama/models--meta-llama--Llama-3.1-8B-Instruct/blobs/81ebb55902285e8dd5804ccf423d17ffb2a622ee\n",
      "Uploading: /opt/app-root/src/llm/llama/models--meta-llama--Llama-3.1-8B-Instruct/blobs/02ee80b6196926a5ad790a004d9efd6ab1ba6542\n",
      "Uploading: /opt/app-root/src/llm/llama/models--meta-llama--Llama-3.1-8B-Instruct/blobs/0bb6fd75b3ad2fe988565929f329945262c2814e\n",
      "Uploading: /opt/app-root/src/llm/llama/models--meta-llama--Llama-3.1-8B-Instruct/blobs/cc7276afd599de091142c6ed3005faf8a74aa257\n",
      "Uploading: /opt/app-root/src/llm/llama/models--meta-llama--Llama-3.1-8B-Instruct/blobs/fc1cdddd6bfa91128d6e94ee73d0ce62bfcdb7af29e978ddcab30c66ae9ea7fa\n",
      "Uploading: /opt/app-root/src/llm/llama/models--meta-llama--Llama-3.1-8B-Instruct/blobs/f1131204e79d0c09d2bac93f11569a8a655d68ba\n",
      "Uploading: /opt/app-root/src/llm/llama/models--meta-llama--Llama-3.1-8B-Instruct/blobs/82e9d31979e92ab929cd544440f129d9ecd797b69e327f80f17e1c50d5551b55\n",
      "Uploading: /opt/app-root/src/llm/llama/models--meta-llama--Llama-3.1-8B-Instruct/blobs/a6344aac8c09253b3b630fb776ae94478aa0275b\n",
      "Uploading: /opt/app-root/src/llm/llama/models--meta-llama--Llama-3.1-8B-Instruct/blobs/2b1879f356aed350030bb40eb45ad362c89d9891096f79a3ab323d3ba5607668\n",
      "Uploading: /opt/app-root/src/llm/llama/.locks\n",
      "Uploading: /opt/app-root/src/llm/llama/.locks/models--meta-llama--Llama-3.1-8B-Instruct\n",
      "Uploading: /opt/app-root/src/llm/llama/.locks/models--meta-llama--Llama-3.1-8B-Instruct/09d433f650646834a83c580877bd60c6d1f88f7755305c12576b5c7058f9af15.lock\n",
      "Uploading: /opt/app-root/src/llm/llama/.locks/models--meta-llama--Llama-3.1-8B-Instruct/f1131204e79d0c09d2bac93f11569a8a655d68ba.lock\n",
      "Uploading: /opt/app-root/src/llm/llama/.locks/models--meta-llama--Llama-3.1-8B-Instruct/81ebb55902285e8dd5804ccf423d17ffb2a622ee.lock\n",
      "Uploading: /opt/app-root/src/llm/llama/.locks/models--meta-llama--Llama-3.1-8B-Instruct/a7c3ca16cee30425ed6ad841a809590f2bcbf290.lock\n",
      "Uploading: /opt/app-root/src/llm/llama/.locks/models--meta-llama--Llama-3.1-8B-Instruct/db88166e2bc4c799fd5d1ae643b75e84d03ee70e.lock\n",
      "Uploading: /opt/app-root/src/llm/llama/.locks/models--meta-llama--Llama-3.1-8B-Instruct/fc1cdddd6bfa91128d6e94ee73d0ce62bfcdb7af29e978ddcab30c66ae9ea7fa.lock\n",
      "Uploading: /opt/app-root/src/llm/llama/.locks/models--meta-llama--Llama-3.1-8B-Instruct/0bb6fd75b3ad2fe988565929f329945262c2814e.lock\n",
      "Uploading: /opt/app-root/src/llm/llama/.locks/models--meta-llama--Llama-3.1-8B-Instruct/02ee80b6196926a5ad790a004d9efd6ab1ba6542.lock\n",
      "Uploading: /opt/app-root/src/llm/llama/.locks/models--meta-llama--Llama-3.1-8B-Instruct/ab33d910f405204e5d388bc3521503584800461dc96808e287821dd451c1edac.lock\n",
      "Uploading: /opt/app-root/src/llm/llama/.locks/models--meta-llama--Llama-3.1-8B-Instruct/5cc5f00a5b203e90a27a3bd60d1ec393b07971e8.lock\n",
      "Uploading: /opt/app-root/src/llm/llama/.locks/models--meta-llama--Llama-3.1-8B-Instruct/2b1879f356aed350030bb40eb45ad362c89d9891096f79a3ab323d3ba5607668.lock\n",
      "Uploading: /opt/app-root/src/llm/llama/.locks/models--meta-llama--Llama-3.1-8B-Instruct/a6344aac8c09253b3b630fb776ae94478aa0275b.lock\n",
      "Uploading: /opt/app-root/src/llm/llama/.locks/models--meta-llama--Llama-3.1-8B-Instruct/0fd8120f1c6acddc268ebc2583058efaf699a771.lock\n",
      "Uploading: /opt/app-root/src/llm/llama/.locks/models--meta-llama--Llama-3.1-8B-Instruct/92ecfe1a2414458b4821ac8c13cf8cb70aed66b5eea8dc5ad9eeb4ff309d6d7b.lock\n",
      "Uploading: /opt/app-root/src/llm/llama/.locks/models--meta-llama--Llama-3.1-8B-Instruct/cc7276afd599de091142c6ed3005faf8a74aa257.lock\n",
      "Uploading: /opt/app-root/src/llm/llama/.locks/models--meta-llama--Llama-3.1-8B-Instruct/bbd5630a05b65c1a8b25141bd11ec44844107d58.lock\n",
      "Uploading: /opt/app-root/src/llm/llama/.locks/models--meta-llama--Llama-3.1-8B-Instruct/82e9d31979e92ab929cd544440f129d9ecd797b69e327f80f17e1c50d5551b55.lock\n"
     ]
    }
   ],
   "source": [
    "bucket_name = \"llm\"\n",
    "\n",
    "\n",
    "def upload_file_to_minio(repo_id, prefix_key, fullfilename=None):\n",
    "    path = f\"/opt/app-root/src/llm/{prefix_key}\" if fullfilename is None else fullfilename\n",
    "    snapshot_download(repo_id=repo_id, cache_dir=path, token='your huggingface token')\n",
    "    for filename in os.listdir(path):\n",
    "        fullfilename = path + '/' + filename\n",
    "        print(\"Uploading:\", fullfilename)\n",
    "        if os.path.isdir(fullfilename):\n",
    "            upload_file_to_minio(repo_id, prefix_key, fullfilename)\n",
    "        else:\n",
    "            try:\n",
    "                s3_client.upload_file(fullfilename, bucket_name, prefix_key + '/' + filename)\n",
    "            except Exception as e:\n",
    "                print(f\"An error occurred while uploading {fullfilename}: {e}\")\n",
    "\n",
    "\n",
    "upload_file_to_minio('meta-llama/Llama-3.1-8B-Instruct', \"llama\")\n",
    "upload_file_to_minio('ibm-granite/granite-3.0-8b-instruct', \"granite\")"
   ]
  },
  {
   "cell_type": "code",
   "execution_count": 17,
   "id": "522fc6b3-53f5-40fb-adab-a2ff9b175f79",
   "metadata": {},
   "outputs": [],
   "source": [
    "!rm -rf /opt/app-root/src/llm/"
   ]
  },
  {
   "cell_type": "code",
   "execution_count": null,
   "id": "36860950-152a-45f3-b42d-56868a9e7dc4",
   "metadata": {},
   "outputs": [],
   "source": []
  }
 ],
 "metadata": {
  "kernelspec": {
   "display_name": "Python 3.11",
   "language": "python",
   "name": "python3"
  },
  "language_info": {
   "codemirror_mode": {
    "name": "ipython",
    "version": 3
   },
   "file_extension": ".py",
   "mimetype": "text/x-python",
   "name": "python",
   "nbconvert_exporter": "python",
   "pygments_lexer": "ipython3",
   "version": "3.11.7"
  }
 },
 "nbformat": 4,
 "nbformat_minor": 5
}
